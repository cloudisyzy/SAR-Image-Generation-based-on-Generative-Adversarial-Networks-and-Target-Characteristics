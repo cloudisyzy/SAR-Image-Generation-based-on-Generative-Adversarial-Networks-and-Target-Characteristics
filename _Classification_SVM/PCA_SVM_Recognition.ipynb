{
 "cells": [
  {
   "cell_type": "code",
   "execution_count": null,
   "id": "5a7e45bc-b1d4-47c4-a094-40e7429ff184",
   "metadata": {},
   "outputs": [],
   "source": [
    "import sys\n",
    "sys.path.append(\"..\")\n",
    "from __models.Classification import get_SAR_dataset, PrincipalComponentsAnalysis, train_classifier, model_evaluation\n",
    "sys.path.remove(\"..\")"
   ]
  },
  {
   "cell_type": "code",
   "execution_count": null,
   "id": "ed21cace-7783-4b02-a1e5-5abe98b09821",
   "metadata": {},
   "outputs": [],
   "source": [
    "train_dir = '../_MSTAR/TRAIN/'\n",
    "extended_train_dir = '../_MSTAR/TRAIN/'\n",
    "num_extended_per_class = 0\n",
    "test_dir = '../_MSTAR/TEST/'"
   ]
  },
  {
   "cell_type": "code",
   "execution_count": null,
   "id": "3771794b-6208-475a-9242-5ad6942fefe8",
   "metadata": {},
   "outputs": [],
   "source": [
    "X_train, y_train = get_SAR_dataset(base_dir=train_dir, crop_size=(64, 64), nsamples_subdir_base='all', \n",
    "                                   extended_dir=extended_train_dir, nsamples_subdir_extended=num_extended_per_class)\n",
    "\n",
    "X_test, y_test = get_SAR_dataset(base_dir=test_dir, crop_size=(64, 64), nsamples_subdir_base='all')\n",
    "\n",
    "X_train, X_test = PrincipalComponentsAnalysis(pca_latent_size=16, trainset=X_train, testset=X_test)\n",
    "\n",
    "model = train_classifier(train_img=X_train, train_label=y_train, mode='svm')\n",
    "\n",
    "accuracy = model_evaluation(model=model, test_img=X_test, test_label=y_test)"
   ]
  }
 ],
 "metadata": {
  "kernelspec": {
   "display_name": "Python 3 (ipykernel)",
   "language": "python",
   "name": "python3"
  },
  "language_info": {
   "codemirror_mode": {
    "name": "ipython",
    "version": 3
   },
   "file_extension": ".py",
   "mimetype": "text/x-python",
   "name": "python",
   "nbconvert_exporter": "python",
   "pygments_lexer": "ipython3",
   "version": "3.9.12"
  },
  "widgets": {
   "application/vnd.jupyter.widget-state+json": {
    "state": {},
    "version_major": 2,
    "version_minor": 0
   }
  }
 },
 "nbformat": 4,
 "nbformat_minor": 5
}
