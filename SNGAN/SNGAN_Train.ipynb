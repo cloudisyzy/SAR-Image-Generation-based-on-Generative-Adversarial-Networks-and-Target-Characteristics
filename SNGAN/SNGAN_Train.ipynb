{
 "cells": [
  {
   "cell_type": "code",
   "execution_count": null,
   "id": "c65a87a0-7c5c-4d4e-81e3-6a3d045e2173",
   "metadata": {},
   "outputs": [],
   "source": [
    "import sys\n",
    "sys.path.append(\"..\")"
   ]
  },
  {
   "cell_type": "code",
   "execution_count": null,
   "id": "ea2125f5-1113-4f86-9caa-f3f4e7b60688",
   "metadata": {},
   "outputs": [],
   "source": [
    "# Import necessary public libraries as well as classes and functions written by the author\n",
    "from IPython.display import clear_output\n",
    "import torch\n",
    "import torch.nn as nn\n",
    "import torch.optim as optim\n",
    "from torchsummary import summary\n",
    "from torch.utils.data import DataLoader\n",
    "import torch.backends.cudnn as cudnn\n",
    "from torch.optim.lr_scheduler import ExponentialLR\n",
    "import PIL\n",
    "from PIL import Image\n",
    "import random\n",
    "import os\n",
    "from __utils.functions import calc_MSE, calc_SSIM, find_most_similar_img\n",
    "from __utils.functions import Imagefolder\n",
    "from __utils.functions import show_img, save_tensor_as_img, img_to_grid_save\n",
    "from __utils.functions import weight_init, reset_grad\n",
    "from __utils.functions import plot_line_graph\n",
    "from __utils.functions import find_key\n",
    "from __models.SNGAN import Discriminator_Hinge, Enlarged_Generator\n",
    "from __models.SNGAN import D_hinge_loss, G_hinge_loss\n",
    "sys.path.remove(\"..\")"
   ]
  },
  {
   "cell_type": "code",
   "execution_count": null,
   "id": "107fc1f7-2907-4847-870d-50d28f98d1fd",
   "metadata": {},
   "outputs": [],
   "source": [
    "# Use GPU rather than CPU to accelerate the training\n",
    "device = torch.device(\"cuda:0\" if torch.cuda.is_available() else \"cpu\")"
   ]
  },
  {
   "cell_type": "code",
   "execution_count": null,
   "id": "6bdf60c2-0a78-4ec8-ad90-09599596549b",
   "metadata": {},
   "outputs": [],
   "source": [
    "# Hyperparameters\n",
    "hp_lr = 1e-4\n",
    "hp_beta1 = 0.0\n",
    "hp_beta2 = 0.9\n",
    "hp_batch_size = 32\n",
    "hp_epochs = 400\n",
    "hp_gin = 256"
   ]
  },
  {
   "cell_type": "code",
   "execution_count": null,
   "id": "565b9bdf-a5d7-4553-9030-594c53fb950c",
   "metadata": {},
   "outputs": [],
   "source": [
    "# Move GAN to GPU\n",
    "netD = Discriminator_Hinge().to(device)\n",
    "netG = Enlarged_Generator().to(device)"
   ]
  },
  {
   "cell_type": "code",
   "execution_count": null,
   "id": "1ee31942-5c4b-4b9b-b58c-f2f7c7855fb2",
   "metadata": {},
   "outputs": [],
   "source": [
    "# # You can see the detail of GAN by runing this block\n",
    "print(summary(netD, (1,128,128)))\n",
    "print(summary(netG, (256,1,1)))"
   ]
  },
  {
   "cell_type": "code",
   "execution_count": null,
   "id": "1c0156bb-ca49-4708-9c74-1d0f9a867ded",
   "metadata": {},
   "outputs": [],
   "source": [
    "# Load trained parameters (For fune-tuning only)\n",
    "# netD.load_state_dict(torch.load(''))\n",
    "# netG.load_state_dict(torch.load(''))"
   ]
  },
  {
   "cell_type": "code",
   "execution_count": null,
   "id": "0bbd5724-d514-4a4c-9a83-e3ef87e8dccd",
   "metadata": {},
   "outputs": [],
   "source": [
    "# Store the images (3 in total) after each iteration, \"fixed_noise\" is the latent vector of the three images\n",
    "fixed_noise = torch.randn(36, hp_gin, 1, 1).to(device)\n",
    "# Store the loss after each iteration\n",
    "G_losses = []\n",
    "D_losses = []\n",
    "# Store the SSIM after each iteration\n",
    "SSIM_history = []\n",
    "# This dict stores the classes of SAR images and their corresponding values\n",
    "class_dict = {'2S1': 0,\n",
    "             'BMP2': 1,\n",
    "             'BRDM2': 2,\n",
    "             'BTR60': 3,\n",
    "             'BTR70': 4,\n",
    "             'D7': 5,\n",
    "             'T62': 6,\n",
    "             'T72': 7,\n",
    "             'ZIL131': 8,\n",
    "             'ZSU234': 9}"
   ]
  },
  {
   "cell_type": "code",
   "execution_count": null,
   "id": "ea73c619-344c-4d17-9808-8ed13c2c5d3c",
   "metadata": {
    "tags": []
   },
   "outputs": [],
   "source": [
    "for classes in range(10):\n",
    "    # Clear output after each loop\n",
    "    clear_output(wait=True)\n",
    "    \n",
    "    # Define the optimizer of GAN\n",
    "    netD = Discriminator_Hinge().to(device)\n",
    "    netG = Enlarged_Generator().to(device)\n",
    "    solver_D = optim.Adam(netD.parameters(), lr=hp_lr, betas=(hp_beta1, hp_beta2))\n",
    "    solver_G = optim.Adam(netG.parameters(), lr=hp_lr, betas=(hp_beta1, hp_beta2))\n",
    "\n",
    "    # Initilize the weight of GAN\n",
    "    netD = netD.apply(weight_init)\n",
    "    netG = netG.apply(weight_init)\n",
    "\n",
    "    category_name = find_key(class_dict, classes)\n",
    "    \n",
    "    # Load the training data\n",
    "    dataset1, _ = Imagefolder(root='../_MSTAR/TRAIN/', normalize=True, category_idx=classes)\n",
    "    dataloader1 = DataLoader(dataset1, batch_size=hp_batch_size, shuffle=True, drop_last=True)\n",
    "    # validation data\n",
    "    dataset2, _ = Imagefolder(root='../_MSTAR/TEST/', normalize=False, category_idx=classes) \n",
    "    dataloader2 = DataLoader(dataset2, batch_size=36, shuffle=True)\n",
    "\n",
    "    print(\"——————————Now start training————————\")\n",
    "                                \n",
    "#             Train Generator and Discriminator Equally\n",
    "\n",
    "    for epoch in range(hp_epochs):\n",
    "        for i, (img, _) in enumerate(dataloader1, 0):\n",
    "    #############   ===================   #############\n",
    "    #############   Train Discriminator   #############\n",
    "    #############   ===================   #############\n",
    "    #         Train with real data\n",
    "            netD.train()\n",
    "            reset_grad(solver_D, solver_G)\n",
    "            imgR_cuda = img.to(device)\n",
    "            output_D1 = netD(imgR_cuda).view(-1)\n",
    "    #         Train with fake data\n",
    "            noise = torch.randn(hp_batch_size, hp_gin, 1, 1, device=device)\n",
    "            imgF_cuda = netG(noise)\n",
    "            output_D2 = netD(imgF_cuda.detach()).view(-1)\n",
    "    #         Sum up two part loss and back propagate gradients\n",
    "            loss_D = D_hinge_loss(output_D1, output_D2)\n",
    "            loss_D.backward()\n",
    "            solver_D.step()\n",
    "            \n",
    "    #############   ===============   #############\n",
    "    #############   Train Generator   #############\n",
    "    #############   ===============   #############              \n",
    "            netG.train()\n",
    "            reset_grad(solver_D, solver_G)\n",
    "            noise_2 = torch.randn(hp_batch_size, hp_gin, 1, 1, device=device)\n",
    "            imgF_cuda_2 = netG(noise_2)\n",
    "            output_G = netD(imgF_cuda_2).view(-1)\n",
    "            loss_G = G_hinge_loss(output_G)\n",
    "    #         Back propagate gradients\n",
    "            loss_G.backward()\n",
    "            solver_G.step()\n",
    "        \n",
    "    #         Print loss during training, easy to track the performance\n",
    "            if i % 100 == 0:\n",
    "                print('{%d/10}|\"%s\"|[%d/%d](%d/%d)\\tLoss_D: %.4f\\tLoss_G: %.4f'\n",
    "                      % (classes+1, category_name, epoch+1, hp_epochs, i, len(dataloader1),\n",
    "                         loss_D.mean().item(), loss_G.mean().item()))\n",
    "\n",
    "    #         Store the loss in two lists\n",
    "            if i == 5:\n",
    "                D_losses.append(loss_D.mean().item())\n",
    "                G_losses.append(loss_G.mean().item())\n",
    "\n",
    "    #     Show the generated images after 10 epoch, and calculate the SSIM\n",
    "        if (epoch+1) % 10 == 0:\n",
    "            netG.eval()\n",
    "            with torch.no_grad():\n",
    "                generated_samples = netG(fixed_noise).cpu()\n",
    "                img_to_grid_save(generated_samples, root='history/%s/' %category_name, name='Epoch_%d' %(epoch+1), name_num=False, nrow=6)\n",
    "                show_img(generated_samples, normalize=True, dpi=150)\n",
    "                generated_samples = generated_samples * 0.5 + 0.5\n",
    "                ssim = calc_SSIM(generated_samples, dataloader2, mode='bd', epoch=20)\n",
    "                SSIM_history.append(ssim.item())\n",
    "                print('-----------------')\n",
    "                print('SSIM: %.4f' %ssim)\n",
    "                print('-----------------')\n",
    "\n",
    "    # Save the parameters of the GAN\n",
    "    torch.save(netG.state_dict(), 'Generator_%s.pkl' %category_name)\n",
    "    torch.save(netD.state_dict(), 'Discriminator_%s.pkl' %category_name)\n",
    "    \n",
    "    with open(\"SNGAN_SSIM_list.txt\", \"a\") as file:\n",
    "        file.write('\\n')\n",
    "        file.write('%s\\n' %category_name)\n",
    "        for item in SSIM_history:\n",
    "            file.write(str(item) + '\\t')\n",
    "            \n",
    "    # Save the generated samples：200*5=1000 images\n",
    "    netG.eval()\n",
    "    for img_loop in range(5):\n",
    "        noise = torch.randn(200, hp_gin, 1, 1).to(device)\n",
    "        gen_img = netG(noise)\n",
    "        save_tensor_as_img(gen_img, root='images/%s' %category_name, normalize=True, name='batch_%d' %img_loop)"
   ]
  },
  {
   "cell_type": "code",
   "execution_count": null,
   "id": "d0c2deba-1100-4efb-b72a-105bc881f208",
   "metadata": {},
   "outputs": [],
   "source": [
    "# Plot the Loss Progess of Discriminator and Generator\n",
    "plot_line_graph(line1=D_losses, name1='Dis', line2=G_losses, name2='Gen', dpi=100, title='Loss progress history', xlabel='epoch', ylabel='')"
   ]
  },
  {
   "cell_type": "code",
   "execution_count": null,
   "id": "e6a0568e-c930-4a39-bad8-1f427f1743d6",
   "metadata": {},
   "outputs": [],
   "source": [
    "# Plot the SSIM/MSE progress history\n",
    "plot_line_graph(line1=SSIM_history, title='SSIM progress history', xlabel='step', ylabel='', dpi=100)"
   ]
  }
 ],
 "metadata": {
  "kernelspec": {
   "display_name": "Python 3 (ipykernel)",
   "language": "python",
   "name": "python3"
  },
  "language_info": {
   "codemirror_mode": {
    "name": "ipython",
    "version": 3
   },
   "file_extension": ".py",
   "mimetype": "text/x-python",
   "name": "python",
   "nbconvert_exporter": "python",
   "pygments_lexer": "ipython3",
   "version": "3.9.12"
  },
  "widgets": {
   "application/vnd.jupyter.widget-state+json": {
    "state": {},
    "version_major": 2,
    "version_minor": 0
   }
  }
 },
 "nbformat": 4,
 "nbformat_minor": 5
}
